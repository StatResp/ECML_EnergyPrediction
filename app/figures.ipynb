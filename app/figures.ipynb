{
 "cells": [
  {
   "cell_type": "markdown",
   "id": "built-actress",
   "metadata": {},
   "source": [
    "# figures\n",
    "\n",
    "This notebook includes miscellaneous post processing and formatting of the output CSVs that are then used for the figures and tables in latex for the paper. Most of this processing is formatting CSVs that came out of models.ipynb. The majority of this notebook reformats the column names ect. so it is easier to load into Latex tikz figures and tables."
   ]
  },
  {
   "cell_type": "code",
   "execution_count": null,
   "id": "understanding-purple",
   "metadata": {},
   "outputs": [],
   "source": [
    "import torch\n",
    "#import geopandas as gpd\n",
    "import pandas as pd\n",
    "import os\n",
    "import datetime as dt\n",
    "import time\n",
    "from copy import deepcopy\n",
    "import datetime\n",
    "from shapely.geometry import Point, LineString, Polygon, asShape, mapping\n",
    "import requests\n",
    "import numpy as np\n",
    "from shapely.ops import cascaded_union, transform\n",
    "from functools import partial\n",
    "import pyproj\n",
    "#import folium\n",
    "import math\n",
    "import requests\n",
    "import concurrent.futures\n",
    "import json\n",
    "import plotly.graph_objects as go\n",
    "from scipy import stats\n",
    "import pickle\n",
    "import sklearn.metrics\n",
    "import statistics\n",
    "#from matplotlib import cm, colors\n",
    "#import seaborn as sn\n",
    "#import matplotlib.pyplot as plt\n",
    "\n",
    "pd.set_option('display.max_columns', None)\n",
    "pd.set_option('display.max_rows', None)\n",
    "os.chdir(\"../\")\n",
    "print(f\"Current working directory: {os.getcwd()}\")"
   ]
  },
  {
   "cell_type": "markdown",
   "id": "packed-matter",
   "metadata": {},
   "source": [
    "## 1. fig 3 formatting\n",
    "\n",
    "Figure 3b requires formatting the output results in both CO2 emissions and energy in kWh."
   ]
  },
  {
   "cell_type": "code",
   "execution_count": null,
   "id": "victorian-whole",
   "metadata": {},
   "outputs": [],
   "source": [
    "results_kwh = {}\n",
    "\n",
    "file = os.path.join(os.getcwd(), 'output_r', 'latex', 'bootresults.pkl')\n",
    "with open(file, 'rb') as handle:\n",
    "    results = pickle.load(handle)\n",
    "\n",
    "for k, v in results.items():\n",
    "    m = k.split(\"_\")[0]\n",
    "    vehicle = k.split(\"_\")[1]\n",
    "    temp = []\n",
    "    for sim in v:\n",
    "        if vehicle == 'electric':\n",
    "            temp.append(sim.apply(lambda x: x / .707))\n",
    "        else:\n",
    "            temp.append(sim.apply(lambda x: (x / 10.18) * 37.95))\n",
    "    results_kwh[k] = temp"
   ]
  },
  {
   "cell_type": "code",
   "execution_count": null,
   "id": "continued-oregon",
   "metadata": {},
   "outputs": [],
   "source": [
    "def get_bias_variance(df, result):\n",
    "    biases, variances = [], []\n",
    "    for k, v in df.iterrows():\n",
    "        y_true = v[TARGET]\n",
    "        y_preds = []\n",
    "        for sim in result:\n",
    "            try:\n",
    "                y_preds.append(sim.loc[k])\n",
    "            except:\n",
    "                continue\n",
    "        if len(y_preds) > 1:\n",
    "            bias = np.abs(np.mean(y_preds) - y_true)\n",
    "            biases.append(bias)\n",
    "            variance = statistics.variance(y_preds)\n",
    "            variances.append(variance)\n",
    "    return biases, variances\n",
    "\n",
    "TARGET = 'target_kg'\n",
    "bias_data = {}\n",
    "variance_data = {}\n",
    "table_results = []\n",
    "\n",
    "for k, v in results.items():\n",
    "    biases, variances = get_bias_variance(data[k.split(\"_\")[1]], v)\n",
    "    bias_data[k] = biases\n",
    "    variance_data[k] = variances\n",
    "    print(f\"model: {k}, mean bias: {np.mean(biases)}, variance mean: {np.mean(variances)}\")"
   ]
  },
  {
   "cell_type": "code",
   "execution_count": null,
   "id": "unusual-keeping",
   "metadata": {},
   "outputs": [],
   "source": [
    "table_results = []\n",
    "for vehicle in ['diesel', 'hybrid', 'electric']:\n",
    "    if vehicle == 'diesel':\n",
    "        temp = {'Vehicle Class': 'ICEV'}\n",
    "    elif vehicle == 'hybrid':\n",
    "        temp = {'Vehicle Class': 'HV'}\n",
    "    else:\n",
    "        temp = {'Vehicle Class': 'EV'}\n",
    "    for model in ['mtl', 'baseline']:\n",
    "        if model == 'mtl':\n",
    "            m = 'MTL'\n",
    "        else:\n",
    "            m = 'Baseline'\n",
    "        temp[f\"{m} Bias Mean\"] = np.mean(bias_data[f\"{model}_{vehicle}\"])\n",
    "        temp[f\"{m} Bias Median\"] = np.median(bias_data[f\"{model}_{vehicle}\"])\n",
    "        temp[f\"{m} Variance Mean\"] = np.mean(variance_data[f\"{model}_{vehicle}\"])\n",
    "        temp[f\"{m} Variance Median\"] = np.median(variance_data[f\"{model}_{vehicle}\"])\n",
    "    table_results.append(temp)\n",
    "df_table = pd.DataFrame.from_records(table_results)\n",
    "df_table = df_table.round(4)\n",
    "outpath = os.path.join(os.getcwd(), 'output_r', 'latex', 'paper', 'biasvariancetable.csv')\n",
    "df_table.to_csv(outpath, index=False)\n",
    "df_table.head()"
   ]
  },
  {
   "cell_type": "code",
   "execution_count": null,
   "id": "talented-wings",
   "metadata": {},
   "outputs": [],
   "source": [
    "quantiles = [0.01, 0.25, 0.5, 0.75, 0.99]\n",
    "box = {}\n",
    "for m in ['mtl', 'baseline']:\n",
    "    for vehicle in ['diesel', 'hybrid', 'electric']:\n",
    "        box[f\"{m}{vehicle}\"] = pd.Series(bias_data[f\"{m}_{vehicle}\"]).quantile(quantiles).tolist()\n",
    "df_box = pd.DataFrame(box)\n",
    "outpath = os.path.join(os.getcwd(), 'output_r', 'latex', 'paper', 'fullbootdistkwh.csv')\n",
    "df_box.to_csv(outpath, index=False)\n",
    "df_box"
   ]
  },
  {
   "cell_type": "code",
   "execution_count": null,
   "id": "offshore-fight",
   "metadata": {},
   "outputs": [],
   "source": [
    "def get_bias_variance(df, result):\n",
    "    biases, variances = [], []\n",
    "    for k, v in df.iterrows():\n",
    "        y_true = v[TARGET]\n",
    "        y_preds = []\n",
    "        for sim in result:\n",
    "            try:\n",
    "                y_preds.append(sim.loc[k])\n",
    "            except:\n",
    "                continue\n",
    "        if len(y_preds) > 1:\n",
    "            bias = np.abs(np.mean(y_preds) - y_true)\n",
    "            biases.append(bias)\n",
    "            variance = statistics.variance(y_preds)\n",
    "            variances.append(variance)\n",
    "    return biases, variances\n",
    "\n",
    "TARGET = 'target_kwh'\n",
    "bias_data = {}\n",
    "variance_data = {}\n",
    "table_results = []\n",
    "\n",
    "for k, v in results_kwh.items():\n",
    "    biases, variances = get_bias_variance(data[k.split(\"_\")[1]], v)\n",
    "    bias_data[k] = biases\n",
    "    variance_data[k] = variances\n",
    "    print(f\"model: {k}, mean bias: {np.mean(biases)}, variance mean: {np.mean(variances)}\")"
   ]
  },
  {
   "cell_type": "code",
   "execution_count": null,
   "id": "previous-google",
   "metadata": {},
   "outputs": [],
   "source": [
    "table_results = []\n",
    "for vehicle in ['diesel', 'hybrid', 'electric']:\n",
    "    if vehicle == 'diesel':\n",
    "        temp = {'Vehicle Class': 'ICEV'}\n",
    "    elif vehicle == 'hybrid':\n",
    "        temp = {'Vehicle Class': 'HV'}\n",
    "    else:\n",
    "        temp = {'Vehicle Class': 'EV'}\n",
    "    for model in ['mtl', 'baseline']:\n",
    "        if model == 'mtl':\n",
    "            m = 'MTL'\n",
    "        else:\n",
    "            m = 'Baseline'\n",
    "        temp[f\"{m} Bias Mean\"] = np.mean(bias_data[f\"{model}_{vehicle}\"])\n",
    "        temp[f\"{m} Bias Median\"] = np.median(bias_data[f\"{model}_{vehicle}\"])\n",
    "        temp[f\"{m} Variance Mean\"] = np.mean(variance_data[f\"{model}_{vehicle}\"])\n",
    "        temp[f\"{m} Variance Median\"] = np.median(variance_data[f\"{model}_{vehicle}\"])\n",
    "    table_results.append(temp)\n",
    "df_table = pd.DataFrame.from_records(table_results)\n",
    "df_table = df_table.round(4)\n",
    "outpath = os.path.join(os.getcwd(), 'output_r', 'latex', 'paper', 'biasvariancetablekwh.csv')\n",
    "df_table.to_csv(outpath, index=False)\n",
    "df_table.head()"
   ]
  },
  {
   "cell_type": "code",
   "execution_count": null,
   "id": "chronic-century",
   "metadata": {},
   "outputs": [],
   "source": [
    "quantiles = [0.01, 0.25, 0.5, 0.75, 0.99]\n",
    "box = {}\n",
    "for m in ['mtl', 'baseline']:\n",
    "    for vehicle in ['diesel', 'hybrid', 'electric']:\n",
    "        box[f\"{m}{vehicle}\"] = pd.Series(bias_data[f\"{m}_{vehicle}\"]).quantile(quantiles).tolist()\n",
    "df_box = pd.DataFrame(box)\n",
    "outpath = os.path.join(os.getcwd(), 'output_r', 'latex', 'paper', 'fullbootdistkwh.csv')\n",
    "df_box.to_csv(outpath, index=False)\n",
    "df_box"
   ]
  },
  {
   "cell_type": "markdown",
   "id": "hollow-bulgarian",
   "metadata": {},
   "source": [
    "## 2. mtl vs baseline formatting\n",
    "\n",
    "Format the output from the MTL vs Baseline evaluation in models.ipynb."
   ]
  },
  {
   "cell_type": "code",
   "execution_count": null,
   "id": "qualified-correlation",
   "metadata": {},
   "outputs": [],
   "source": [
    "# mtl_vs_baseline (test set)\n",
    "\n",
    "file_path = os.path.join(os.getcwd(), 'output_r', 'latex', 'mtl_vs_baseline.csv')\n",
    "df = pd.read_csv(file_path)\n",
    "df = df.set_index('description')\n",
    "\n",
    "vehicles = ['diesel', 'hybrid', 'electric']\n",
    "metrics = ['mae', 'mse']\n",
    "\n",
    "result = {'mtlmae': [], 'mtlmse': [], 'baselinemae': [], 'baselinemse': [], 'vehicle': []}\n",
    "\n",
    "for vehicle in vehicles:\n",
    "    result['vehicle'].append(vehicle)\n",
    "    for metric in metrics:\n",
    "        y = df.at[f\"{vehicle}_test_{metric}\", 'mtl_mean']\n",
    "        result[f\"mtl{metric}\"].append(y)\n",
    "    \n",
    "        y = df.at[f\"{vehicle}_test_{metric}\", 'baseline_mean']\n",
    "        result[f\"baseline{metric}\"].append(y)\n",
    "\n",
    "out_path = os.path.join(os.getcwd(), 'output_r', 'latex', 'paper', 'mtlvsbaseline.csv')\n",
    "temp = pd.DataFrame(result)\n",
    "temp['improvementmse'] = temp.apply(lambda row: 100*((row['baselinemse'] - row['mtlmse']) / row['baselinemse']), axis=1)\n",
    "temp['improvementmae'] = temp.apply(lambda row: 100*((row['baselinemae'] - row['mtlmae']) / row['baselinemae']), axis=1)\n",
    "#r = {'mtlmae': temp['mtlmae'].sum(), 'mtlmse': temp['mtlmse'].sum(), 'baselinemae': temp['baselinemae'].sum(), 'baselinemse': temp['baselinemse'].sum(), 'vehicle': 'total'}\n",
    "#temp = temp.append(r, ignore_index=True)\n",
    "temp.to_csv(out_path, index=False)"
   ]
  },
  {
   "cell_type": "markdown",
   "id": "plastic-presentation",
   "metadata": {},
   "source": [
    "## 3. Emissions correlation table \n",
    "\n",
    "This changes the column names in table 3 of the paper."
   ]
  },
  {
   "cell_type": "code",
   "execution_count": null,
   "id": "daily-inspection",
   "metadata": {},
   "outputs": [],
   "source": [
    "# EC Correlation\n",
    "\n",
    "file_path = os.path.join(os.getcwd(), 'output_r', 'latex', 'ec_correlation.csv')\n",
    "df = pd.read_csv(file_path, index_col=0)\n",
    "ind = [\"Average Speed\", \"Jam Factor\", \"Temperature\", 'Preciptitation Intensity', 'Wind Gust', 'Humidity', 'Visibility', 'Wind Speed', 'Speed Ratio', 'Change in Elevation', 'Elevation Difference', 'Time to Travel', 'Distance Travelled']\n",
    "df.index = ind\n",
    "df = df.sort_values(by=['electric'], ascending=False)\n",
    "df = df.rename(columns={'diesel': 'ICEV', 'hybrid': 'HV', 'electric': 'EV'})\n",
    "out_path = os.path.join(os.getcwd(), 'output_r', 'latex', 'paper', 'eccorrelation.csv')\n",
    "df.to_csv(out_path, index_label='Feature')\n",
    "df.head()"
   ]
  },
  {
   "cell_type": "markdown",
   "id": "better-hobby",
   "metadata": {},
   "source": [
    "## 4. Bootstrap evaluation formatting\n",
    "\n",
    "This formats the output to make figure 5 in the paper"
   ]
  },
  {
   "cell_type": "code",
   "execution_count": null,
   "id": "otherwise-buyer",
   "metadata": {},
   "outputs": [],
   "source": [
    "# bootstrap (full data)\n",
    "\n",
    "file_path = os.path.join(os.getcwd(), 'output_r', 'latex', 'full_boot.csv')\n",
    "df = pd.read_csv(file_path)\n",
    "df = df.rename(columns={'vehicle': 'vehicle', 'mtl_bias': 'mtlbias', 'mtl_mae': 'mtlmae', 'mtl_mse': 'mtlmse', 'baseline_bias': 'baselinebias', 'baseline_mae': 'baselinemae', 'baseline_mse': 'baselinemse'})\n",
    "out_path = os.path.join(os.getcwd(), 'output_r', 'latex', 'paper', 'fullboot.csv')\n",
    "df.to_csv(out_path, index=False)"
   ]
  },
  {
   "cell_type": "code",
   "execution_count": null,
   "id": "coordinated-stewart",
   "metadata": {},
   "outputs": [],
   "source": [
    "# bootstrap full - bias distribution\n",
    "\n",
    "file_path = os.path.join(os.getcwd(), 'output_r', 'latex', 'full_boot_baseline_bias_distribution.csv')\n",
    "df = pd.read_csv(file_path)\n",
    "df = df.rename(columns={'diesel': 'baselinediesel', 'hybrid': 'baselinehybrid', 'electric': 'baselineelectric'})\n",
    "\n",
    "file_path = os.path.join(os.getcwd(), 'output_r', 'latex', 'full_boot_mtl_bias_distribution.csv')\n",
    "df2 = pd.read_csv(file_path)\n",
    "df2 = df2.rename(columns={'diesel': 'mtldiesel', 'hybrid': 'mtlhybrid', 'electric': 'mtlelectric'})\n",
    "\n",
    "df3 = pd.concat([df, df2], axis=1)\n",
    "out_path = os.path.join(os.getcwd(), 'output_r', 'latex', 'paper', 'fullbootdist.csv')\n",
    "df3.to_csv(out_path, index=False)"
   ]
  },
  {
   "cell_type": "markdown",
   "id": "capable-market",
   "metadata": {},
   "source": [
    "## 5. ITL\n",
    "\n",
    "This section formats the data to be presented in figure 6 of the paper"
   ]
  },
  {
   "cell_type": "code",
   "execution_count": null,
   "id": "missing-singapore",
   "metadata": {},
   "outputs": [],
   "source": [
    "file_path = os.path.join(os.getcwd(), 'output_r', 'latex', 'itl_temp.csv')\n",
    "df = pd.read_csv(file_path)\n",
    "#temp = df.groupby(['source', 'target', 'target_frac']).mean()\n",
    "#temp.head()\n",
    "result = {'targetfrac': sorted(df['target_frac'].unique().tolist()), 'targetsamples': sorted(df['target_samples'].unique().tolist())}\n",
    "for source in ['diesel', 'hybrid', 'electric']:\n",
    "    for target in ['diesel', 'hybrid', 'electric']:\n",
    "        if source != target:\n",
    "            temp = df[(df['source']==source) & (df['target']==target)].groupby(['target_frac']).mean().sort_values(by=['target_frac'])\n",
    "            temp['improvementmse'] = temp.apply(lambda row: 100 * ((row['mse_baseline'] - row['mse_target']) / row['mse_baseline']), axis=1)\n",
    "            temp['improvementmae'] = temp.apply(lambda row: 100 * ((row['mae_baseline'] - row['mae_target']) / row['mae_baseline']), axis=1)\n",
    "            result[f\"{source}{target}mseimprovement\"] = temp['improvementmse'].values.tolist()\n",
    "            result[f\"{source}{target}maeimprovement\"] = temp['improvementmae'].values.tolist()\n",
    "            result[f\"{source}{target}mtlmse\"] = temp['mse_target'].values.tolist()\n",
    "            result[f\"{source}{target}mtlmae\"] = temp['mae_target'].values.tolist()\n",
    "            result[f\"{source}{target}baselinemae\"] = temp['mae_baseline'].values.tolist()\n",
    "            result[f\"{source}{target}baselinemse\"] = temp['mse_baseline'].values.tolist()\n",
    "            \n",
    "df1 = pd.DataFrame(result)\n",
    "df1['targetper'] = df1['targetfrac'].apply(lambda x: 100*x)\n",
    "out_path = os.path.join(os.getcwd(), 'output_r', 'latex', 'paper', 'itl.csv')\n",
    "df1.to_csv(out_path, index=False)"
   ]
  },
  {
   "cell_type": "code",
   "execution_count": null,
   "id": "tight-methodology",
   "metadata": {},
   "outputs": [],
   "source": []
  }
 ],
 "metadata": {
  "kernelspec": {
   "display_name": "Python 3",
   "language": "python",
   "name": "python3"
  },
  "language_info": {
   "codemirror_mode": {
    "name": "ipython",
    "version": 3
   },
   "file_extension": ".py",
   "mimetype": "text/x-python",
   "name": "python",
   "nbconvert_exporter": "python",
   "pygments_lexer": "ipython3",
   "version": "3.8.5"
  }
 },
 "nbformat": 4,
 "nbformat_minor": 5
}
